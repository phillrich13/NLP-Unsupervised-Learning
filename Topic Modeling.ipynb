{
 "cells": [
  {
   "cell_type": "code",
   "execution_count": 1029,
   "id": "120c7885-d9b0-42c6-a087-4bcb637f1f18",
   "metadata": {},
   "outputs": [
    {
     "name": "stderr",
     "output_type": "stream",
     "text": [
      "[nltk_data] Downloading package vader_lexicon to\n",
      "[nltk_data]     /Users/philliprichardson/nltk_data...\n",
      "[nltk_data]   Package vader_lexicon is already up-to-date!\n"
     ]
    }
   ],
   "source": [
    "import spacy\n",
    "import pandas as pd\n",
    "import re\n",
    "import matplotlib.pyplot as plt\n",
    "import string\n",
    "from sklearn.feature_extraction.text import TfidfVectorizer, CountVectorizer\n",
    "from sklearn.decomposition import NMF\n",
    "from sklearn.decomposition import TruncatedSVD\n",
    "import numpy as np\n",
    "import nltk\n",
    "from sklearn.decomposition import NMF\n",
    "import stylecloud\n",
    "from wordcloud import WordCloud, STOPWORDS, ImageColorGenerator\n",
    "nlp = spacy.load('en_core_web_sm')\n",
    "nltk.download('vader_lexicon')\n",
    "\n",
    "\n",
    "from nltk.sentiment.vader import SentimentIntensityAnalyzer"
   ]
  },
  {
   "cell_type": "code",
   "execution_count": 771,
   "id": "6ff3e8bd-9f96-479d-aa9f-673add9188a9",
   "metadata": {},
   "outputs": [],
   "source": [
    "tweets = pd.read_pickle(r'/Users/philliprichardson/Metis/Module 5/final df.pkl')"
   ]
  },
  {
   "cell_type": "markdown",
   "id": "1e539048-ebca-4b39-9eec-23141ff6b715",
   "metadata": {},
   "source": [
    "## Apply sentiment analysis on base tweets."
   ]
  },
  {
   "cell_type": "code",
   "execution_count": 1255,
   "id": "a9650a13-c83d-4799-9c38-07df1c65e290",
   "metadata": {},
   "outputs": [],
   "source": [
    "sid = SentimentIntensityAnalyzer()\n",
    "\n",
    "\n",
    "tweets['sentiment'] = tweets.text.apply(lambda x: sid.polarity_scores(x)['compound'])"
   ]
  },
  {
   "cell_type": "markdown",
   "id": "28b68772-8e12-477c-81eb-872eee3ff46a",
   "metadata": {},
   "source": [
    "## Tweet Pre-processing"
   ]
  },
  {
   "cell_type": "code",
   "execution_count": 772,
   "id": "6ffc2ec0-4fa7-4639-823c-fa168392c809",
   "metadata": {},
   "outputs": [],
   "source": [
    "emoji_pattern = re.compile(\"[\"\n",
    "        u\"\\U0001F600-\\U0001F64F\"  # emoticons\n",
    "        u\"\\U0001F300-\\U0001F5FF\"  # symbols & pictographs\n",
    "        u\"\\U0001F680-\\U0001F6FF\"  # transport & map symbols\n",
    "        u\"\\U0001F1E0-\\U0001F1FF\"  # flags (iOS)\n",
    "        u\"\\U0001F1F2-\\U0001F1F4\"  # Macau flag\n",
    "        u\"\\U0001F1E6-\\U0001F1FF\"  # flags\n",
    "        u\"\\U0001F600-\\U0001F64F\"\n",
    "        u\"\\U00002702-\\U000027B0\"\n",
    "        u\"\\U000024C2-\\U0001F251\"\n",
    "        u\"\\U0001f926-\\U0001f937\"\n",
    "        u\"\\U0001F1F2\"\n",
    "        u\"\\U0001F1F4\"\n",
    "        u\"\\U0001F620\"\n",
    "        u\"\\u200d\"\n",
    "        u\"\\u2640-\\u2642\"\n",
    "        \"]+\", flags=re.UNICODE)\n",
    "\n"
   ]
  },
  {
   "cell_type": "code",
   "execution_count": 773,
   "id": "6b17205c-5200-46d1-ad39-2fa9a3070eb1",
   "metadata": {},
   "outputs": [],
   "source": [
    "stopwords = nltk.corpus.stopwords.words('english')\n",
    "\n",
    "# Since all tweets are about E3, no real meaning with keeping these words.\n",
    "updated_stopwords = ['e', 'e3', 'e32021', ' 2021', '2021 ','2021','2022', 'like', 'good', 'game', 'nintendoe3', 'of', 'fucking', 'conference']\n",
    "stopwords.extend(updated_stopwords)\n"
   ]
  },
  {
   "cell_type": "markdown",
   "id": "2805b92a-fc30-477b-b6fa-34fd2e9761d7",
   "metadata": {},
   "source": [
    "## Split hashtags to ensure more signal with keywords like 'xbox' or 'ubisoft', since 'ubisoftforward' doesn't count towards 'ubisoft'"
   ]
  },
  {
   "cell_type": "code",
   "execution_count": 1256,
   "id": "11bb57e8-e7f6-450c-85ec-83d98bfdab51",
   "metadata": {},
   "outputs": [],
   "source": [
    "# Pre-Processing\n",
    "hashtags = {'#taketwointeractive': 'Take Two Interactive', '#nintendodirect': 'Nintendo Direct', '#xboxbethesda': 'xbox bethesda', '#squareenixpresents': 'square enix presents', '#xbox20' : 'xbox 20', '#ubisoftforward' : 'ubisoft forward', \n",
    "            '#ubiforward': 'ubi forward', '#guardiansofthegalaxy': 'guardians of the galaxy', '#metroiddread': 'metroid dread', '#capcomshowcase': 'capcom showcase', '#capcome3': 'capcom e3', '#squareenix': 'square enix', 'squareenix': 'square enix',\n",
    "           '#finalfantasy': 'final fantasy', '#haloinfinite': 'halo infinite', '#bethesdaxbox': 'bethesda xbox', '#xboxgamepass': 'xbox gamepass', '#forzahorizon5': 'forza horizon 5', 'bethesdaxbox': 'bethesda xbox', '#20xbox': '20 xbox',\n",
    "           '#nintendotreehouselive': 'nintendo treehouse live', '#forwardubisoft': 'forward ubisoft', '#directnintendo': 'direct nintendo', '#nintendonintendo': 'nintendo', 'nintendonintendo': 'nintendo', 'directnintendo': 'direct nintendo',\n",
    "           '#presentssquare': 'presents square', 'forwardubisoft': 'forward ubisoft'}\n",
    "\n",
    "\n",
    "def tweet_clean(tweets):\n",
    "    #lowercase tweets\n",
    "    tweets_clean = tweets.lower()\n",
    "    for key, value in hashtags.items():\n",
    "        tweets_clean = tweets_clean.replace(key, value)\n",
    "    #clean RTs\n",
    "    tweets_clean = re.sub(r'^rt[\\s]+', ' ', tweets_clean)\n",
    "    #remove emojis and other unicode icons\n",
    "    tweets_clean = emoji_pattern.sub(r' ', tweets_clean)\n",
    "    #remove links\n",
    "    tweets_clean = re.sub(r'https?:\\/\\/.*[\\r\\n]*', ' ', tweets_clean)\n",
    "    #clean up hashtags\n",
    "    tweets_clean = re.sub(r'#', ' ', tweets_clean)\n",
    "    #remove single numbers\n",
    "    tweets_clean = re.sub(r' [0-9] ', ' ', tweets_clean)\n",
    "    #remove '...'\n",
    "    tweets_clean = tweets_clean.replace('\\u2026',' ')\n",
    "    #Clean up amp which are ampersands, replace with and. Will get removed either way.\n",
    "    tweets_clean = tweets_clean.replace('amp', ' ')\n",
    "    #Remove most punctuation, ' is still included.\n",
    "#     \n",
    "    #remove stopwords list\n",
    "    tweets_clean = ' '.join(word for word in tweets_clean.split() if word not in stopwords)\n",
    "\n",
    "    return tweets_clean\n"
   ]
  },
  {
   "cell_type": "markdown",
   "id": "afc3a95f-1cc8-4ade-aa2f-d8ccb24ee149",
   "metadata": {},
   "source": [
    "## Apply cleaning function to tweets"
   ]
  },
  {
   "cell_type": "code",
   "execution_count": 1257,
   "id": "bf2d13c0-1e52-4209-8abf-473c7b64edb6",
   "metadata": {},
   "outputs": [],
   "source": [
    "tweets['cleaned'] = tweets.text.apply(lambda x: tweet_clean(x))\n"
   ]
  },
  {
   "cell_type": "markdown",
   "id": "ef590d3c-9148-4335-b26d-ff112cd1826a",
   "metadata": {},
   "source": [
    "## After testing, found that splitting tweets into sentences offered more signal in topic modeling. Through exploration this mainly has to do with tweets encompassing multiple independent thoughts. e.g. 'Xbox had a great presentation. Ubisoft could have done more. Nintendo was amazing' This is 3 independent thoughts on 3 topics, splitting by '.' improves topic modeling."
   ]
  },
  {
   "cell_type": "code",
   "execution_count": 1264,
   "id": "b31a693d-35e0-4149-af31-0c7e65f72f07",
   "metadata": {
    "tags": []
   },
   "outputs": [],
   "source": [
    "lst = []\n",
    "check = tweets.cleaned.str.split('.')\n",
    "senti = tweets.sentiment\n",
    "\n",
    "\n",
    "for i in range(len(check)):\n",
    "    for j in check[i]:\n",
    "        if j != '':\n",
    "            lst.append([senti[i], j])\n",
    "        \n"
   ]
  },
  {
   "cell_type": "code",
   "execution_count": 1266,
   "id": "3ab5b081-c2da-44b0-92a8-b22f9114bf18",
   "metadata": {},
   "outputs": [],
   "source": [
    "sentiment = []\n",
    "words = []\n",
    "for i in lst:\n",
    "    words.append(i[1])\n",
    "    sentiment.append(i[0])"
   ]
  },
  {
   "cell_type": "code",
   "execution_count": 1267,
   "id": "7bef067f-1e4e-4676-9663-74c0b7d52060",
   "metadata": {},
   "outputs": [],
   "source": [
    "new_lst = []\n",
    "for i in words:\n",
    "    new_lst.append(' '.join(word.strip(string.punctuation) for word in i.split()))"
   ]
  },
  {
   "cell_type": "markdown",
   "id": "29371a84-3519-4f50-950d-fbda52a1a62d",
   "metadata": {},
   "source": [
    "## Creating function to encapsulate the topic modeling process"
   ]
  },
  {
   "cell_type": "code",
   "execution_count": 1268,
   "id": "14f83020-1a20-473c-95cb-a8be9e6498ab",
   "metadata": {},
   "outputs": [],
   "source": [
    "def topic_generation(text, vectorizer, topic_modeler, n_words = 7):\n",
    "    doc_word_vectors = vectorizer.fit_transform(text)\n",
    "    \n",
    "    # Fit the topic model.\n",
    "    doc_topic_vectors = topic_modeler.fit_transform(doc_word_vectors)\n",
    "    \n",
    "    # Print the topics.\n",
    "    vocab = vectorizer.get_feature_names()\n",
    "    for idx, topic in enumerate(topic_modeler.components_):\n",
    "        # Select the top 15 words in vocab for this topic.\n",
    "        top_words = [vocab[i].upper() for i in topic.argsort()[:-n_words-1:-1]]\n",
    "        print(f\"Topic {idx}:\\n\", \", \".join(top_words), \"\\n\")\n",
    "    \n",
    "    return doc_topic_vectors"
   ]
  },
  {
   "cell_type": "markdown",
   "id": "8fd686f5-7fff-4c80-9dbe-810551d8396c",
   "metadata": {},
   "source": [
    "## initializing tf-idf and count vectorizers. As well as NMF and LSA topic modeling for testing"
   ]
  },
  {
   "cell_type": "code",
   "execution_count": 1269,
   "id": "ad9702bc-ddc3-4ba1-8d2d-f6864c81fc6a",
   "metadata": {},
   "outputs": [],
   "source": [
    "vectorizer = TfidfVectorizer(lowercase=False, max_df = .8, stop_words = updated_stopwords)\n",
    "vectorizer2 = CountVectorizer(lowercase=False)\n",
    "nmf = NMF(7)\n",
    "lsa = TruncatedSVD(7)"
   ]
  },
  {
   "cell_type": "markdown",
   "id": "a8ca5238-f1a4-44f7-a567-49c497f998e1",
   "metadata": {},
   "source": [
    "### Baseline topics"
   ]
  },
  {
   "cell_type": "code",
   "execution_count": 863,
   "id": "e5a68487-af5e-4dd5-88f3-6abbed1e8e72",
   "metadata": {
    "tags": []
   },
   "outputs": [
    {
     "name": "stdout",
     "output_type": "stream",
     "text": [
      "Topic 0:\n",
      " XBOX, BETHESDA, 20, SHOWCASE, STARFIELD, GAMEPASS, FORZA, PASS, COMING, LOOKS, GO, HORIZON, REDFALL, EXCLUSIVE, MICROSOFT, FRIDGE, OUTER, WORLDS, READY, SERIES \n",
      "\n",
      "Topic 1:\n",
      " NINTENDO, DIRECT, METROID, DREAD, ZELDA, BREATH, SWITCH, WILD, BOTW2, NEW, MARIO, SMASH, GO, WARS, ADVANCE, WARIOWARE, BOTW, WARIO, NINTENDOSWITCH, LOOKS \n",
      "\n",
      "Topic 2:\n",
      " SQUARE, ENIX, PRESENTS, GUARDIANS, GALAXY, FINAL, FANTASY, MARVEL, LOOKS, PRESENTATION, AVENGERS, LIFE, STRANGE, MOBILE, TIME, CHAOS, GO, ORIGIN, BABYLON, FALL \n",
      "\n",
      "Topic 3:\n",
      " NINTENDO, DIRECT, ANNOUNCED, DAYS, SAVE, SWITCH, SAVED, WINS, TOMORROW, 15, REVEALED, METROID, MARIO, TREEHOUSE, PLEASE, US, 10, LIVE, NINTENDOSWITCH, PRESENTATION \n",
      "\n",
      "Topic 4:\n",
      " FORWARD, UBISOFT, UBI, AVATAR, LOOKING, MARIO, LOOKS, RAINBOW, RABBIDS, FAR, SIX, EXTRACTION, CRY, FARCRY6, ROCKSMITH, LIVE, LOOK, RIDERSREPUBLIC, DANCE, MARIORABBIDS \n",
      "\n",
      "Topic 5:\n",
      " HALO, INFINITE, LOOKS, MULTIPLAYER, PLAY, FREE, FORZA, BATTLEFIELD, GAMEPLAY, HORIZON, GUARDIANS, AMAZING, GALAXY, HOLIDAY, TRAILER, HALOSPOTLIGHT, 2042, STARFIELD, FUN, LOOK \n",
      "\n",
      "Topic 6:\n",
      " GAMES, CAPCOM, TODAY, DAY, SEE, NEW, SHOWCASE, SHOW, TIME, WAIT, EXCITED, CAN, YEAR, IT, ONE, GET, REALLY, LET, VIDEO, FAR \n",
      "\n"
     ]
    },
    {
     "data": {
      "text/plain": [
       "array([[0.00050318, 0.00129006, 0.00039491, ..., 0.0010508 , 0.00034877,\n",
       "        0.01415835],\n",
       "       [0.        , 0.00045697, 0.00053693, ..., 0.00155539, 0.        ,\n",
       "        0.01988028],\n",
       "       [0.00026224, 0.        , 0.        , ..., 0.        , 0.00109232,\n",
       "        0.        ],\n",
       "       ...,\n",
       "       [0.        , 0.        , 0.03743977, ..., 0.        , 0.        ,\n",
       "        0.01116362],\n",
       "       [0.00085751, 0.00138241, 0.00548814, ..., 0.00014112, 0.        ,\n",
       "        0.01366679],\n",
       "       [0.00053439, 0.        , 0.05740747, ..., 0.00123316, 0.00731092,\n",
       "        0.01236551]])"
      ]
     },
     "execution_count": 863,
     "metadata": {},
     "output_type": "execute_result"
    }
   ],
   "source": [
    "topic_generation(tweets.cleaned, vectorizer, nmf, 20)"
   ]
  },
  {
   "cell_type": "markdown",
   "id": "571b5cc9-0bdd-443e-a244-9bd5b8e820e2",
   "metadata": {},
   "source": [
    "### Sentence Documents instead of total tweet documents, much clearer topics compared to total tweet level docs"
   ]
  },
  {
   "cell_type": "code",
   "execution_count": 1270,
   "id": "3e03b249-6b92-4d13-a916-d725ae812467",
   "metadata": {},
   "outputs": [
    {
     "name": "stdout",
     "output_type": "stream",
     "text": [
      "Topic 0:\n",
      " XBOX, BETHESDA, 20, STARFIELD, GAMEPASS, MICROSOFT, SHOWCASE, PASS, FORZA, EXCLUSIVE, GO, XBOXSERIESX, FRIDGE, REDFALL, READY, HORIZON, COMING, LET, SERIES, HADES, BEST, OUTER, MINI, WORLDS, LIVE, XBOXE3, BATTLEFIELD2042, SHOW, TIME, STALKER \n",
      "\n",
      "Topic 1:\n",
      " NINTENDO, DIRECT, METROID, DREAD, BOTW2, ZELDA, NINTENDOSWITCH, BREATH, WILD, SWITCH, GO, SMASH, WARS, ADVANCE, MARIO, WARIOWARE, BOTW, NEW, WARIO, SMASHBROSULTIMATE, DIRECTE3, LET, BREATHOFTHEWILD2, KAZUYA, LIFE, LIVE, BALL, PARTY, STRANGE, FATAL \n",
      "\n",
      "Topic 2:\n",
      " SQUARE, ENIX, GUARDIANS, GALAXY, FINAL, FANTASY, MARVEL, TIME, PRESENTS, LET, AVENGERS, GO, LIVE, LIFE, STRANGE, CHAOS, MOBILE, NEXT, ORIGIN, SHOWCASE, LIFEISSTRANGE, STRANGER, PARADISE, MINUTES, BABYLON, FALL, PLEASE, PRESENTATION, OK, GOTG \n",
      "\n",
      "Topic 3:\n",
      " NINTENDO, DIRECT, DAYS, SWITCH, SAVE, TOMORROW, TODAY, WINS, SAVED, LIVE, 15, METROID, PLEASE, US, TREEHOUSE, REVEALED, YEAR, DAY, MARIO, ZELDA, NINTENDOSWITCH, LET, 10, THANK, HOPE, BOTW2, DREAD, 14, PREDICTIONS, READY \n",
      "\n",
      "Topic 4:\n",
      " FORWARD, UBISOFT, UBI, AVATAR, LIVE, MARIO, RABBIDS, FARCRY6, RAINBOW, FAR, R6EXTRACTION, ROCKSMITH, SIX, MARIORABBIDS, RIDERSREPUBLIC, EXTRACTION, CRY, WATCHING, SUMMERGAMEFEST, WATCH, GEARBOX, REALLY, DANCE, EVENT, SPARKS, HOPE, MINUTES, PANDORA, TO, SHOW \n",
      "\n",
      "Topic 5:\n",
      " HALO, GAMES, LOOKS, INFINITE, TODAY, NEW, DAY, SEE, IT, WAIT, EXCITED, CAN, TIME, ONE, REALLY, YEAR, GET, METROID, PLAY, GUARDIANS, GO, GREAT, FAR, COMING, GALAXY, LET, TRAILER, VIDEO, COOL, THAT \n",
      "\n",
      "Topic 6:\n",
      " CAPCOM, TIME, LET, THAT, LIVE, GO, SHOWCASE, DLC, ACE, PLEASE, ATTORNEY, RESIDENT, NOTHING, VILLAGE, EVIL, MONSTER, REALLY, HUNTER, TODAY, WELL, WATCHING, TAKE, US, WORST, RESIDENTEVILVILLAGE, WATCH, PRESENTATION, ESPORTS, CAPCOMUSA, WTF \n",
      "\n"
     ]
    }
   ],
   "source": [
    "final = topic_generation(new_lst, vectorizer, nmf, 30)"
   ]
  },
  {
   "cell_type": "markdown",
   "id": "c340a845-3f5e-47cc-b4a2-b57a143a2094",
   "metadata": {},
   "source": [
    "### Too much overlap in topics with LSA and TF-IDF"
   ]
  },
  {
   "cell_type": "code",
   "execution_count": 827,
   "id": "16ffd90c-835f-493e-aa3b-b9697862ea2c",
   "metadata": {
    "tags": []
   },
   "outputs": [
    {
     "name": "stdout",
     "output_type": "stream",
     "text": [
      "Topic 0:\n",
      " XBOX, BETHESDA, 20, SHOWCASE, HALO, GAMES, SQUARE, INFINITE \n",
      "\n",
      "Topic 1:\n",
      " NINTENDO, DIRECT, NINTENDO, METROID, DIRECT, DREAD, NEW, BOTW2 \n",
      "\n",
      "Topic 2:\n",
      " SQUARE, ENIX, PRESENTS, GUARDIANS, GALAXY, FINAL, NINTENDO, FANTASY \n",
      "\n",
      "Topic 3:\n",
      " NINTENDO, DIRECT, FORWARD, ANNOUNCED, UBISOFT, TODAY, DAYS, DAY \n",
      "\n",
      "Topic 4:\n",
      " FORWARD, UBISOFT, UBI, LOOKING, GAMES, AVATAR, LOOKS, NEW \n",
      "\n",
      "Topic 5:\n",
      " HALO, GAMES, LOOKS, CAPCOM, INFINITE, TODAY, NEW, SEE \n",
      "\n",
      "Topic 6:\n",
      " CAPCOM, SHOWCASE, GAMES, DAY, SHOW, TODAY, TIME, PRESENTATION \n",
      "\n"
     ]
    },
    {
     "data": {
      "text/plain": [
       "array([[ 8.10434751e-03,  9.44451817e-03,  7.89695876e-03, ...,\n",
       "         1.35190997e-02,  4.67824931e-02,  1.15625430e-02],\n",
       "       [ 8.11577208e-03,  9.03038168e-03,  9.43860110e-03, ...,\n",
       "         1.62051158e-02,  4.69919844e-02,  2.15821179e-02],\n",
       "       [ 6.04741823e-03,  4.95271647e-03,  8.08373596e-03, ...,\n",
       "         1.59320876e-02,  3.75346347e-02,  1.02907760e-02],\n",
       "       ...,\n",
       "       [ 1.31214469e-02,  9.51698505e-03,  2.23596277e-01, ...,\n",
       "        -1.63034831e-04,  2.20247175e-02, -3.66965942e-05],\n",
       "       [ 9.16784954e-03,  8.98075152e-03,  2.22659249e-02, ...,\n",
       "         1.18240056e-02,  5.86448359e-02,  7.15581051e-03],\n",
       "       [ 2.19166118e-02,  1.39311997e-02,  3.10592020e-01, ...,\n",
       "         6.46050472e-03,  9.39868130e-02, -4.59298804e-02]])"
      ]
     },
     "execution_count": 827,
     "metadata": {},
     "output_type": "execute_result"
    }
   ],
   "source": [
    "topic_generation(lst, vectorizer, lsa, 8)"
   ]
  },
  {
   "cell_type": "markdown",
   "id": "93aa14c6-0839-4afd-a456-d8a3d3c77a74",
   "metadata": {},
   "source": [
    "### Less meaningfull words in some of the topics, and overlap in too many topics"
   ]
  },
  {
   "cell_type": "code",
   "execution_count": 828,
   "id": "1c02c54f-d179-42c2-9edb-b14c2525afa1",
   "metadata": {
    "tags": []
   },
   "outputs": [
    {
     "name": "stdout",
     "output_type": "stream",
     "text": [
      "Topic 0:\n",
      " XBOX, BETHESDA, 20, SHOWCASE, HALO, STARFIELD, GAMEPASS, SHOW \n",
      "\n",
      "Topic 1:\n",
      " NINTENDO, DIRECT, ANNOUNCED, 2021, DAYS, TODAY, SWITCH, DAY \n",
      "\n",
      "Topic 2:\n",
      " SQUARE, ENIX, PRESENTS, GUARDIANS, GALAXY, FINAL, FANTASY, MARVEL \n",
      "\n",
      "Topic 3:\n",
      " NINTENDO, DIRECT, METROID, ZELDA, SWITCH, BOTW2, DREAD, SMASH \n",
      "\n",
      "Topic 4:\n",
      " FORWARD, UBISOFT, UBI, LOOKING, AVATAR, LIVE, TODAY, FAR \n",
      "\n",
      "Topic 5:\n",
      " GAMES, TODAY, SHOW, SHOWCASE, VIDEO, DAY, SEE, ONE \n",
      "\n",
      "Topic 6:\n",
      " NEW, LOOKS, HALO, INFINITE, METROID, TRAILER, GAME, SEE \n",
      "\n"
     ]
    },
    {
     "data": {
      "text/plain": [
       "array([[1.53848279e-03, 2.00815479e-03, 1.40149789e-03, ...,\n",
       "        3.21000991e-03, 1.61551622e-02, 1.71397752e-02],\n",
       "       [1.21289095e-03, 2.54656250e-03, 1.80351121e-03, ...,\n",
       "        5.10192058e-03, 1.12808535e-02, 9.72404267e-03],\n",
       "       [3.12705623e-04, 3.39293114e-04, 5.87442303e-04, ...,\n",
       "        1.57717612e-03, 3.34889226e-03, 3.48014378e-03],\n",
       "       ...,\n",
       "       [0.00000000e+00, 5.78632673e-05, 1.11002462e-01, ...,\n",
       "        1.07253311e-03, 6.83630155e-03, 8.47544287e-03],\n",
       "       [0.00000000e+00, 0.00000000e+00, 7.42476281e-03, ...,\n",
       "        0.00000000e+00, 8.12654010e-04, 9.68128676e-02],\n",
       "       [0.00000000e+00, 0.00000000e+00, 1.20347059e-01, ...,\n",
       "        0.00000000e+00, 0.00000000e+00, 4.87349047e-02]])"
      ]
     },
     "execution_count": 828,
     "metadata": {},
     "output_type": "execute_result"
    }
   ],
   "source": [
    "topic_generation(lst, vectorizer2, nmf, 8)"
   ]
  },
  {
   "cell_type": "markdown",
   "id": "29caecf4-0ed1-477d-b733-6d8fb2a45072",
   "metadata": {},
   "source": [
    "### Way too much overlap in topics in Count Vectorizer and LSA (look how many topics have 'Nintendo' in them"
   ]
  },
  {
   "cell_type": "code",
   "execution_count": 829,
   "id": "f3338838-cb70-484e-8744-3cc7302ba664",
   "metadata": {
    "tags": []
   },
   "outputs": [
    {
     "name": "stdout",
     "output_type": "stream",
     "text": [
      "Topic 0:\n",
      " XBOX, BETHESDA, 20, GAMES, SHOWCASE, HALO, SQUARE, NINTENDO \n",
      "\n",
      "Topic 1:\n",
      " NINTENDO, NINTENDO, DIRECT, DIRECT, ANNOUNCED, 2021, NEW, TODAY \n",
      "\n",
      "Topic 2:\n",
      " SQUARE, ENIX, PRESENTS, GUARDIANS, GALAXY, FINAL, FANTASY, GAMES \n",
      "\n",
      "Topic 3:\n",
      " NINTENDO, DIRECT, 2021, ANNOUNCED, DAYS, 15, REVEALED, SQUARE \n",
      "\n",
      "Topic 4:\n",
      " FORWARD, UBISOFT, GAMES, NEW, UBI, TODAY, LOOKS, SEE \n",
      "\n",
      "Topic 5:\n",
      " GAMES, NEW, HALO, SEE, LOOKS, TODAY, INFINITE, VIDEO \n",
      "\n",
      "Topic 6:\n",
      " GAMES, SHOWCASE, FORWARD, UBISOFT, SHOW, NINTENDO, DIRECT, VIDEO \n",
      "\n"
     ]
    },
    {
     "data": {
      "text/plain": [
       "array([[ 0.06620062,  0.09499934,  0.04553832, ...,  0.1901262 ,\n",
       "         0.15049751, -0.02494952],\n",
       "       [ 0.04920377,  0.07936383,  0.04136137, ...,  0.15549675,\n",
       "         0.07146399, -0.02888717],\n",
       "       [ 0.01427358,  0.01852488,  0.01416428, ...,  0.04872077,\n",
       "         0.02122249, -0.01354527],\n",
       "       ...,\n",
       "       [ 0.10283398,  0.1553387 ,  1.30991737, ..., -0.04089437,\n",
       "         0.03135191, -0.00880775],\n",
       "       [ 0.07791947,  0.12441883,  0.15887847, ...,  0.33855615,\n",
       "         0.41504152, -0.4289005 ],\n",
       "       [ 0.13128049,  0.17385908,  1.45398236, ...,  0.01870867,\n",
       "         0.08817266, -0.37157244]])"
      ]
     },
     "execution_count": 829,
     "metadata": {},
     "output_type": "execute_result"
    }
   ],
   "source": [
    "topic_generation(lst, vectorizer2, lsa, 8)"
   ]
  },
  {
   "cell_type": "markdown",
   "id": "98c5941d-871b-4ca2-8795-2b6ec319c3cb",
   "metadata": {},
   "source": [
    "## Assigining topics back to main dataframe"
   ]
  },
  {
   "cell_type": "code",
   "execution_count": 1284,
   "id": "3ea715df-68c1-4efc-ae49-5064f213f80b",
   "metadata": {},
   "outputs": [],
   "source": [
    "topic_map = {0: 'Xbox', 1: 'Nintendo (post-presentation)', 3:'Nintendo (pre-presentation)', 2: 'Square Enix', 4: 'Ubisoft', 5: 'General E3', 6: 'Capcom'}\n",
    "\n",
    "sentis = pd.DataFrame(sentiment, columns = ['sentiment'])\n",
    "\n",
    "topics = pd.DataFrame(new_lst, columns = ['Tweet'])\n",
    "\n",
    "topics['topic'] = final.argmax(axis = 1)\n",
    "\n",
    "topics[['Xbox', 'Nintendo (post-presentation)', 'Nintendo (pre-presentation)', 'Square Enix', 'Ubisoft', 'Misc','Capcom' ]] = final\n",
    "\n",
    "topics['topic'] = topics.topic.apply(lambda x: topic_map[x])\n",
    "\n",
    "topics['sentiment'] = sentis['sentiment']\n",
    "\n",
    "topics['sentiment_tert'] = topics.sentiment.apply(lambda x: 1 if x > 0 else (0 if x == 0 else -1))\n",
    "\n"
   ]
  },
  {
   "cell_type": "markdown",
   "id": "483e77a8-782e-4d4b-9bf8-f07a5395d4ef",
   "metadata": {},
   "source": [
    "## Not particularly surprising, but ~62% of documents are not related to the other top 6 topics. E3 covers a LARGE array of video game topics that aren't as large as the topics measured here, also many people react directly about E3 instead of a specific game."
   ]
  },
  {
   "cell_type": "code",
   "execution_count": 1273,
   "id": "f7ea1b43-a437-4b71-9c14-ceb62447a424",
   "metadata": {},
   "outputs": [
    {
     "data": {
      "text/plain": [
       "General E3                      105556\n",
       "Xbox                             20572\n",
       "Nintendo (pre-presentation)      10650\n",
       "Nintendo (post-presentation)      9787\n",
       "Ubisoft                           7857\n",
       "Square Enix                       7423\n",
       "Capcom                            4634\n",
       "Name: topic, dtype: int64"
      ]
     },
     "execution_count": 1273,
     "metadata": {},
     "output_type": "execute_result"
    }
   ],
   "source": [
    "topics.topic.value_counts()"
   ]
  },
  {
   "cell_type": "code",
   "execution_count": 1287,
   "id": "4820e0c2-327f-4e7e-9312-30717eb82f11",
   "metadata": {},
   "outputs": [],
   "source": [
    "topics.to_pickle(r'/Users/philliprichardson/Metis/Module 5/topics.pkl')"
   ]
  },
  {
   "cell_type": "markdown",
   "id": "b3b478ca-e597-45fe-b88e-abb0f30f7095",
   "metadata": {},
   "source": [
    "## Creating files to feed Tableau for visualization"
   ]
  },
  {
   "cell_type": "code",
   "execution_count": 1288,
   "id": "f7193c4d-84a6-42ae-8b9a-1b15dbd6c08b",
   "metadata": {},
   "outputs": [],
   "source": [
    "vectorizer2 = CountVectorizer(lowercase=False, max_features = 1000, ngram_range = (2,2))\n",
    "\n",
    "test = vectorizer2.fit_transform(topics.Tweet)"
   ]
  },
  {
   "cell_type": "code",
   "execution_count": 1289,
   "id": "19381490-eda2-4b0b-ad4a-fc0f0ea027d1",
   "metadata": {},
   "outputs": [],
   "source": [
    "count_vect_df = pd.DataFrame(test.todense(), columns=vectorizer2.get_feature_names())"
   ]
  },
  {
   "cell_type": "code",
   "execution_count": 1301,
   "id": "f3033dc1-9796-4cbf-a161-36f5a4b6f8b0",
   "metadata": {},
   "outputs": [],
   "source": [
    "count_vect_df['topic'] = topics['topic']\n",
    "count_vect_df['sentiment'] = topics['sentiment']\n",
    "count_vect_df['sentiment_tert'] = topics['sentiment_tert']"
   ]
  },
  {
   "cell_type": "code",
   "execution_count": 1302,
   "id": "1341d43d-f7e9-45b6-9d66-6acf8818a3f2",
   "metadata": {},
   "outputs": [],
   "source": [
    "gen_e3_words = count_vect_df[(count_vect_df.topic == 'General E3')]\n",
    "xbox_words = count_vect_df[(count_vect_df.topic == 'Xbox')]\n",
    "SE_words = count_vect_df[(count_vect_df.topic == 'Square Enix')]\n",
    "nin_post_words = count_vect_df[(count_vect_df.topic == 'Nintendo (post-presentation)')]\n",
    "ubi_words = count_vect_df[(count_vect_df.topic == 'Ubisoft')]\n",
    "nin_pre_words = count_vect_df[(count_vect_df.topic == 'Nintendo (pre-presentation)')]\n",
    "capcom_words = count_vect_df[(count_vect_df.topic == 'Capcom')]"
   ]
  },
  {
   "cell_type": "code",
   "execution_count": 1303,
   "id": "02f5d5f9-431c-4398-8f63-75831b538861",
   "metadata": {},
   "outputs": [],
   "source": [
    "dfs = [xbox_words, SE_words, nin_post_words,ubi_words, nin_pre_words, capcom_words]\n",
    "words = count_vect_df\n",
    "w_iter = words.drop(['topic', 'sentiment', 'sentiment_tert'], 1).columns"
   ]
  },
  {
   "cell_type": "markdown",
   "id": "6be9d42d-7eb6-4fe0-96ad-fa217d9e79f1",
   "metadata": {},
   "source": [
    "## Essentially take the top 1000 bigrams across entire corpus, then find how often they occur in each topic to create better visualizations"
   ]
  },
  {
   "cell_type": "code",
   "execution_count": 1304,
   "id": "d77e5643-8b77-49e6-b7f3-e35896c779a0",
   "metadata": {},
   "outputs": [],
   "source": [
    "new_df = []\n",
    "\n",
    "for i in dfs:\n",
    "    topic = i.topic.iloc[1]\n",
    "    for j in w_iter:\n",
    "        new = i[(i[j] > 0)]\n",
    "        check = np.mean(new.sentiment)\n",
    "        check2 = np.mean(new.sentiment_tert)\n",
    "        new_df.append([topic, j, sum(new[j]), check, check2])\n"
   ]
  },
  {
   "cell_type": "code",
   "execution_count": 1306,
   "id": "e1e6fc65-e22b-4997-9ffe-2ed22349a9c8",
   "metadata": {},
   "outputs": [],
   "source": [
    "tableauexport = pd.DataFrame(new_df, columns = ['topic', 'bigram', 'word freq', 'avg sentiment', 'avg tert sentiment'])"
   ]
  },
  {
   "cell_type": "code",
   "execution_count": 1307,
   "id": "ba29b2c1-9125-4372-b517-65c63edfd58c",
   "metadata": {},
   "outputs": [
    {
     "data": {
      "text/html": [
       "<div>\n",
       "<style scoped>\n",
       "    .dataframe tbody tr th:only-of-type {\n",
       "        vertical-align: middle;\n",
       "    }\n",
       "\n",
       "    .dataframe tbody tr th {\n",
       "        vertical-align: top;\n",
       "    }\n",
       "\n",
       "    .dataframe thead th {\n",
       "        text-align: right;\n",
       "    }\n",
       "</style>\n",
       "<table border=\"1\" class=\"dataframe\">\n",
       "  <thead>\n",
       "    <tr style=\"text-align: right;\">\n",
       "      <th></th>\n",
       "      <th>topic</th>\n",
       "      <th>bigram</th>\n",
       "      <th>word freq</th>\n",
       "      <th>avg sentiment</th>\n",
       "      <th>avg tert sentiment</th>\n",
       "    </tr>\n",
       "  </thead>\n",
       "  <tbody>\n",
       "    <tr>\n",
       "      <th>0</th>\n",
       "      <td>Xbox</td>\n",
       "      <td>10 10</td>\n",
       "      <td>19</td>\n",
       "      <td>0.269644</td>\n",
       "      <td>0.388889</td>\n",
       "    </tr>\n",
       "    <tr>\n",
       "      <th>1</th>\n",
       "      <td>Xbox</td>\n",
       "      <td>10 2021</td>\n",
       "      <td>0</td>\n",
       "      <td>NaN</td>\n",
       "      <td>NaN</td>\n",
       "    </tr>\n",
       "    <tr>\n",
       "      <th>2</th>\n",
       "      <td>Xbox</td>\n",
       "      <td>10 minutes</td>\n",
       "      <td>17</td>\n",
       "      <td>0.075124</td>\n",
       "      <td>0.176471</td>\n",
       "    </tr>\n",
       "    <tr>\n",
       "      <th>3</th>\n",
       "      <td>Xbox</td>\n",
       "      <td>10 years</td>\n",
       "      <td>9</td>\n",
       "      <td>0.053233</td>\n",
       "      <td>0.000000</td>\n",
       "    </tr>\n",
       "    <tr>\n",
       "      <th>4</th>\n",
       "      <td>Xbox</td>\n",
       "      <td>11 11</td>\n",
       "      <td>39</td>\n",
       "      <td>0.181968</td>\n",
       "      <td>0.394737</td>\n",
       "    </tr>\n",
       "  </tbody>\n",
       "</table>\n",
       "</div>"
      ],
      "text/plain": [
       "  topic      bigram  word freq  avg sentiment  avg tert sentiment\n",
       "0  Xbox       10 10         19       0.269644            0.388889\n",
       "1  Xbox     10 2021          0            NaN                 NaN\n",
       "2  Xbox  10 minutes         17       0.075124            0.176471\n",
       "3  Xbox    10 years          9       0.053233            0.000000\n",
       "4  Xbox       11 11         39       0.181968            0.394737"
      ]
     },
     "execution_count": 1307,
     "metadata": {},
     "output_type": "execute_result"
    }
   ],
   "source": [
    "tableauexport.head()"
   ]
  },
  {
   "cell_type": "code",
   "execution_count": 1308,
   "id": "c37ea585-ce93-4b3d-9f03-fca790fbe667",
   "metadata": {},
   "outputs": [],
   "source": [
    "tableauexport.to_csv(r'/Users/philliprichardson/Metis/Module 5/tableau.csv')"
   ]
  }
 ],
 "metadata": {
  "kernelspec": {
   "display_name": "Python [conda env:root]",
   "language": "python",
   "name": "conda-root-py"
  },
  "language_info": {
   "codemirror_mode": {
    "name": "ipython",
    "version": 3
   },
   "file_extension": ".py",
   "mimetype": "text/x-python",
   "name": "python",
   "nbconvert_exporter": "python",
   "pygments_lexer": "ipython3",
   "version": "3.8.5"
  }
 },
 "nbformat": 4,
 "nbformat_minor": 5
}
