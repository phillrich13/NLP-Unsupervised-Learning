{
 "cells": [
  {
   "cell_type": "code",
   "execution_count": 360,
   "id": "120c7885-d9b0-42c6-a087-4bcb637f1f18",
   "metadata": {},
   "outputs": [],
   "source": [
    "import spacy\n",
    "import pandas as pd\n",
    "import re\n",
    "import string\n",
    "from sklearn.feature_extraction.text import TfidfVectorizer, CountVectorizer\n",
    "from sklearn.decomposition import NMF\n",
    "from sklearn.decomposition import TruncatedSVD\n",
    "import numpy as np\n",
    "import nltk\n",
    "from sklearn.decomposition import NMF\n",
    "nlp = spacy.load('en_core_web_sm')"
   ]
  },
  {
   "cell_type": "code",
   "execution_count": 78,
   "id": "6ff3e8bd-9f96-479d-aa9f-673add9188a9",
   "metadata": {},
   "outputs": [],
   "source": [
    "tweets = pd.read_pickle(r'/Users/philliprichardson/Metis/Module 5/final df.pkl')"
   ]
  },
  {
   "cell_type": "code",
   "execution_count": 338,
   "id": "6ffc2ec0-4fa7-4639-823c-fa168392c809",
   "metadata": {},
   "outputs": [],
   "source": [
    "emoji_pattern = re.compile(\"[\"\n",
    "        u\"\\U0001F600-\\U0001F64F\"  # emoticons\n",
    "        u\"\\U0001F300-\\U0001F5FF\"  # symbols & pictographs\n",
    "        u\"\\U0001F680-\\U0001F6FF\"  # transport & map symbols\n",
    "        u\"\\U0001F1E0-\\U0001F1FF\"  # flags (iOS)\n",
    "        u\"\\U0001F1F2-\\U0001F1F4\"  # Macau flag\n",
    "        u\"\\U0001F1E6-\\U0001F1FF\"  # flags\n",
    "        u\"\\U0001F600-\\U0001F64F\"\n",
    "        u\"\\U00002702-\\U000027B0\"\n",
    "        u\"\\U000024C2-\\U0001F251\"\n",
    "        u\"\\U0001f926-\\U0001f937\"\n",
    "        u\"\\U0001F1F2\"\n",
    "        u\"\\U0001F1F4\"\n",
    "        u\"\\U0001F620\"\n",
    "        u\"\\u200d\"\n",
    "        u\"\\u2640-\\u2642\"\n",
    "        \"]+\", flags=re.UNICODE)\n",
    "\n"
   ]
  },
  {
   "cell_type": "code",
   "execution_count": 405,
   "id": "6b17205c-5200-46d1-ad39-2fa9a3070eb1",
   "metadata": {},
   "outputs": [],
   "source": [
    "stopwords = nltk.corpus.stopwords.words('english')\n",
    "\n",
    "# Since all tweets are about E3, no real meaning with keeping these words.\n",
    "updated_stopwords = ['e', 'e3', 'e32021', ' 2021', '2021 ','2021','2022', 'like', 'good', 'game', 'nintendoe3']\n",
    "stopwords.extend(updated_stopwords)\n",
    "\n",
    "\n",
    "# keeping 'of' because it's importance to game titles like breath OF the wild.\n",
    "del stopwords[71]"
   ]
  },
  {
   "cell_type": "code",
   "execution_count": 410,
   "id": "11bb57e8-e7f6-450c-85ec-83d98bfdab51",
   "metadata": {},
   "outputs": [],
   "source": [
    "# Pre-Processing\n",
    "\n",
    "def tweet_clean(tweets):\n",
    "    #lowercase tweets\n",
    "    tweets_clean = tweets.lower()\n",
    "    #clean RTs\n",
    "    tweets_clean = re.sub(r'^rt[\\s]+', ' ', tweets_clean)\n",
    "    #remove emojis and other unicode icons\n",
    "    tweets_clean = emoji_pattern.sub(r' ', tweets_clean)\n",
    "    #remove links\n",
    "    tweets_clean = re.sub(r'https?:\\/\\/.*[\\r\\n]*', ' ', tweets_clean)\n",
    "    #clean up hashtags\n",
    "    tweets_clean = re.sub(r'#', ' ', tweets_clean)\n",
    "    #remove single numbers\n",
    "    tweets_clean = re.sub(r' [0-9] ', ' ', tweets_clean)\n",
    "    #remove '...'\n",
    "    tweets_clean = tweets_clean.replace('\\u2026',' ')\n",
    "    #Clean up amp which are ampersands, replace with and. Will get removed either way.\n",
    "    tweets_clean = tweets_clean.replace('amp', ' ')\n",
    "    #Remove most punctuation, ' is still included.\n",
    "#     \n",
    "    #remove stopwords list\n",
    "    tweets_clean = ' '.join(word for word in tweets_clean.split() if word not in stopwords)\n",
    "\n",
    "    return tweets_clean\n"
   ]
  },
  {
   "cell_type": "code",
   "execution_count": 411,
   "id": "bf2d13c0-1e52-4209-8abf-473c7b64edb6",
   "metadata": {},
   "outputs": [],
   "source": [
    "tweets['cleaned'] = tweets.text.apply(lambda x: tweet_clean(x))\n"
   ]
  },
  {
   "cell_type": "code",
   "execution_count": 462,
   "id": "b31a693d-35e0-4149-af31-0c7e65f72f07",
   "metadata": {
    "tags": []
   },
   "outputs": [],
   "source": [
    "lst = []\n",
    "check = tweets.cleaned.str.split('.')\n",
    "check\n",
    "\n",
    "for i in check:\n",
    "    for j in i:\n",
    "        if j != '':\n",
    "            lst.append(j)\n",
    "        \n"
   ]
  },
  {
   "cell_type": "code",
   "execution_count": 464,
   "id": "7bef067f-1e4e-4676-9663-74c0b7d52060",
   "metadata": {},
   "outputs": [],
   "source": [
    "new_lst = []\n",
    "for i in lst:\n",
    "    new_lst.append(' '.join(word.strip(string.punctuation) for word in i.split()))"
   ]
  },
  {
   "cell_type": "code",
   "execution_count": 466,
   "id": "14f83020-1a20-473c-95cb-a8be9e6498ab",
   "metadata": {},
   "outputs": [],
   "source": [
    "def topic_generation(text, vectorizer, topic_modeler, n_words = 7):\n",
    "    doc_word_vectors = vectorizer.fit_transform(text)\n",
    "    \n",
    "    # Fit the topic model.\n",
    "    doc_topic_vectors = topic_modeler.fit_transform(doc_word_vectors)\n",
    "    \n",
    "    # Print the topics.\n",
    "    vocab = vectorizer.get_feature_names()\n",
    "    for idx, topic in enumerate(topic_modeler.components_):\n",
    "        # Select the top 15 words in vocab for this topic.\n",
    "        top_words = [vocab[i].upper() for i in topic.argsort()[:-n_words-1:-1]]\n",
    "        print(f\"Topic {idx}:\\n\", \", \".join(top_words), \"\\n\")\n",
    "    \n",
    "    return doc_topic_vectors"
   ]
  },
  {
   "cell_type": "code",
   "execution_count": 467,
   "id": "ad9702bc-ddc3-4ba1-8d2d-f6864c81fc6a",
   "metadata": {},
   "outputs": [],
   "source": [
    "vectorizer = TfidfVectorizer(lowercase=False, max_df = .8, stop_words = updated_stopwords)\n",
    "vectorizer2 = CountVectorizer(lowercase=False)\n",
    "nmf = NMF(7)\n",
    "lsa = TruncatedSVD(7)"
   ]
  },
  {
   "cell_type": "markdown",
   "id": "a8ca5238-f1a4-44f7-a567-49c497f998e1",
   "metadata": {},
   "source": [
    "### Most generalizable consolidation of topics"
   ]
  },
  {
   "cell_type": "code",
   "execution_count": 468,
   "id": "e5a68487-af5e-4dd5-88f3-6abbed1e8e72",
   "metadata": {},
   "outputs": [
    {
     "name": "stdout",
     "output_type": "stream",
     "text": [
      "Topic 0:\n",
      " NINTENDO, DIRECT, ANNOUNCED, DAYS, SAVE, SWITCH, SAVED, WINS, TOMORROW, 15, REVEALED, PLEASE, US, 10, NINTENDOSWITCH, 14, PRESENTATION, MARIO, 13, DIREC \n",
      "\n",
      "Topic 1:\n",
      " XBOXBETHESDA, XBOX20, LOOKS, HALO, FORZA, STARFIELD, REDFALL, HALOINFINITE, INFINITE, OUTER, BATTLEFIELD, WORLDS, TRAILER, HORIZON, AMAZING, COOL, GAMEPLAY, STALKER, COMING, READY \n",
      "\n",
      "Topic 2:\n",
      " OF, GUARDIANS, GALAXY, SQUAREENIXPRESENTS, BREATH, WILD, LOOKS, ZELDA, SQUARE, LEGEND, SEA, THIEVES, ENIX, BEST, MARVEL, FINAL, TRAILER, SQUAREENIX, FANTASY, LOT \n",
      "\n",
      "Topic 3:\n",
      " NINTENDODIRECT, METROID, DREAD, NEW, SWITCH, MARIO, BOTW2, ZELDA, SMASH, WARS, ADVANCE, WARIOWARE, BOTW, WILD, BREATH, PARTY, LOOKS, WARIO, COMING, KAZUYA \n",
      "\n",
      "Topic 4:\n",
      " XBOX, BETHESDA, SHOWCASE, SQUARE, ENIX, PASS, SERIES, COMING, MICROSOFT, EXCLUSIVE, STARFIELD, CONFERENCE, FRIDGE, XBOX20, PC, MINI, SHOW, BEST, GAMES, PLAYSTATION \n",
      "\n",
      "Topic 5:\n",
      " GO, LET, LETS, SQUAREENIXPRESENTS, SQUARE, ENIX, TIME, FUCKING, SEE, GOOOO, SQUAREENIX, ALRIGHT, GOOOOO, MINUTES, GOOOOOO, GIVE, US, UBISOFTFORWARD, BABY, HOURS \n",
      "\n",
      "Topic 6:\n",
      " GAMES, TODAY, DAY, SEE, WAIT, TIME, CAN, EXCITED, SHOW, NEW, CAPCOM, IT, UBISOFT, VIDEO, YEAR, LIVE, GET, REALLY, ONE, FAR \n",
      "\n"
     ]
    },
    {
     "data": {
      "text/plain": [
       "array([[5.20354804e-04, 2.37771372e-04, 1.88289806e-02, ...,\n",
       "        1.41583733e-03, 0.00000000e+00, 1.11382388e-02],\n",
       "       [8.07649609e-05, 0.00000000e+00, 2.35995888e-02, ...,\n",
       "        0.00000000e+00, 0.00000000e+00, 1.93602958e-02],\n",
       "       [3.82224232e-02, 3.73529986e-04, 4.38515787e-04, ...,\n",
       "        8.88034863e-04, 2.83908973e-05, 2.69361242e-04],\n",
       "       ...,\n",
       "       [0.00000000e+00, 0.00000000e+00, 4.65383686e-02, ...,\n",
       "        5.37985482e-03, 6.11320346e-03, 1.00907001e-02],\n",
       "       [0.00000000e+00, 1.01735670e-03, 6.53003881e-03, ...,\n",
       "        3.95638539e-03, 1.38864177e-04, 8.38532221e-03],\n",
       "       [0.00000000e+00, 9.57033486e-03, 1.56039943e-02, ...,\n",
       "        9.84241508e-04, 2.11938990e-03, 1.11600850e-02]])"
      ]
     },
     "execution_count": 468,
     "metadata": {},
     "output_type": "execute_result"
    }
   ],
   "source": [
    "topic_generation(tweets.cleaned, vectorizer, nmf, 20)"
   ]
  },
  {
   "cell_type": "markdown",
   "id": "571b5cc9-0bdd-443e-a244-9bd5b8e820e2",
   "metadata": {},
   "source": [
    "### Sentence Documents instead of total tweet documents, much clearer topics compared to total tweet level docs"
   ]
  },
  {
   "cell_type": "code",
   "execution_count": 472,
   "id": "3e03b249-6b92-4d13-a916-d725ae812467",
   "metadata": {},
   "outputs": [
    {
     "name": "stdout",
     "output_type": "stream",
     "text": [
      "Topic 0:\n",
      " XBOXBETHESDA, XBOX20, HALOINFINITE, HALO, GO, STARFIELD, REDFALL, SHOWCASE, READY, OUTER, FORZAHORIZON5, FORZA, WORLDS, LET, GAMEPASS, XBOXGAMEPASS, BATTLEFIELD2042, BATTLEFIELD, STALKER, XBOXSERIESX \n",
      "\n",
      "Topic 1:\n",
      " NINTENDODIRECT, METROID, BOTW2, ZELDA, NINTENDOSWITCH, DREAD, SWITCH, SMASH, GO, WARS, ADVANCE, WARIOWARE, SMASHBROSULTIMATE, BOTW, WARIO, MARIO, BREATH, WILD, BREATHOFTHEWILD2, METROIDDREAD \n",
      "\n",
      "Topic 2:\n",
      " NINTENDO, DIRECT, ANNOUNCED, DAYS, SWITCH, SAVE, TOMORROW, WINS, SAVED, TODAY, 15, PLEASE, REVEALED, METROID, US, YEAR, PRESENTATION, NINTENDOSWITCH, MARIO, DAY \n",
      "\n",
      "Topic 3:\n",
      " OF, GUARDIANS, GALAXY, BREATH, WILD, DAY, ONE, ZELDA, BEST, SEA, YEAR, LEGEND, LOT, THIEVES, TRAILER, COMING, FAR, PART, FIRST, FINAL \n",
      "\n",
      "Topic 4:\n",
      " SQUAREENIXPRESENTS, SQUAREENIX, GUARDIANSOFTHEGALAXY, GUARDIANS, SQUARE, GALAXY, ENIX, FANTASY, FINAL, MARVEL, FINALFANTASY, STRANGE, LIFE, AVENGERS, GO, CHAOS, TIME, MOBILE, FALL, LIFEISSTRANGE \n",
      "\n",
      "Topic 5:\n",
      " XBOX, BETHESDA, SHOWCASE, XBOX20, EXCLUSIVE, CONFERENCE, STARFIELD, PASS, COMING, MICROSOFT, SHOW, SERIES, FRIDGE, SQUARE, PC, ENIX, MINI, BEST, ONE, GAMES \n",
      "\n",
      "Topic 6:\n",
      " LOOKS, GAMES, IT, SEE, NEW, TODAY, WAIT, UBISOFTFORWARD, TIME, CAN, EXCITED, GO, LET, REALLY, HALO, SHOW, CAPCOM, GET, UBISOFT, GREAT \n",
      "\n"
     ]
    },
    {
     "data": {
      "text/plain": [
       "array([[0.00000000e+00, 2.15429252e-04, 6.71520785e-04, ...,\n",
       "        0.00000000e+00, 1.25976188e-03, 7.99082554e-03],\n",
       "       [0.00000000e+00, 3.96780104e-05, 3.84980269e-04, ...,\n",
       "        0.00000000e+00, 1.82196436e-04, 9.18626610e-03],\n",
       "       [0.00000000e+00, 0.00000000e+00, 0.00000000e+00, ...,\n",
       "        3.76964155e-05, 7.62211536e-05, 1.03384519e-02],\n",
       "       ...,\n",
       "       [0.00000000e+00, 0.00000000e+00, 0.00000000e+00, ...,\n",
       "        1.50687476e-03, 1.91553870e-03, 1.01733986e-02],\n",
       "       [0.00000000e+00, 1.82898895e-04, 4.00970708e-05, ...,\n",
       "        1.78735031e-03, 2.58839917e-03, 1.10762197e-02],\n",
       "       [0.00000000e+00, 0.00000000e+00, 0.00000000e+00, ...,\n",
       "        6.21732445e-03, 0.00000000e+00, 2.85621594e-02]])"
      ]
     },
     "execution_count": 472,
     "metadata": {},
     "output_type": "execute_result"
    }
   ],
   "source": [
    "topic_generation(new_lst, vectorizer, nmf, 20)"
   ]
  },
  {
   "cell_type": "markdown",
   "id": "c340a845-3f5e-47cc-b4a2-b57a143a2094",
   "metadata": {},
   "source": [
    "### Too much overlap in topics with LSA and TF-IDF"
   ]
  },
  {
   "cell_type": "code",
   "execution_count": 469,
   "id": "16ffd90c-835f-493e-aa3b-b9697862ea2c",
   "metadata": {},
   "outputs": [
    {
     "name": "stdout",
     "output_type": "stream",
     "text": [
      "Topic 0:\n",
      " XBOXBETHESDA, XBOX20, XBOX, NINTENDODIRECT, OF, SHOWCASE, LOOKS, NINTENDO \n",
      "\n",
      "Topic 1:\n",
      " NINTENDODIRECT, NINTENDO, OF, DIRECT, METROID, NEW, TODAY, GO \n",
      "\n",
      "Topic 2:\n",
      " NINTENDO, OF, DIRECT, XBOX, ANNOUNCED, GAMES, TODAY, DAY \n",
      "\n",
      "Topic 3:\n",
      " OF, SQUAREENIXPRESENTS, XBOX, GAMES, LOOKS, GUARDIANS, GALAXY, DAY \n",
      "\n",
      "Topic 4:\n",
      " SQUAREENIXPRESENTS, NINTENDO, SQUAREENIX, XBOXBETHESDA, GUARDIANSOFTHEGALAXY, GUARDIANS, DIRECT, FANTASY \n",
      "\n",
      "Topic 5:\n",
      " XBOX, BETHESDA, SQUAREENIXPRESENTS, SHOWCASE, XBOX20, SHOW, EXCLUSIVE, STARFIELD \n",
      "\n",
      "Topic 6:\n",
      " LOOKS, UBISOFTFORWARD, IT, WAIT, UBIFORWARD, SEE, HALO, CAN \n",
      "\n"
     ]
    },
    {
     "data": {
      "text/plain": [
       "array([[ 0.01277396,  0.01920182,  0.05014881, ..., -0.02702974,\n",
       "        -0.04506005, -0.02514209],\n",
       "       [ 0.0160591 ,  0.02388116,  0.06728761, ..., -0.03591351,\n",
       "        -0.0772278 , -0.04139282],\n",
       "       [ 0.00611214,  0.00696137,  0.01947247, ..., -0.00791121,\n",
       "         0.00281023,  0.02454588],\n",
       "       ...,\n",
       "       [ 0.01812121,  0.0256909 ,  0.08661945, ..., -0.03613535,\n",
       "        -0.11238749, -0.06272137],\n",
       "       [ 0.00868485,  0.01216496,  0.02888053, ..., -0.00801999,\n",
       "        -0.0030024 ,  0.01344137],\n",
       "       [ 0.01406663,  0.01226202,  0.03927495, ...,  0.01553242,\n",
       "        -0.02760722,  0.14388929]])"
      ]
     },
     "execution_count": 469,
     "metadata": {},
     "output_type": "execute_result"
    }
   ],
   "source": [
    "topic_generation(lst, vectorizer, lsa, 8)"
   ]
  },
  {
   "cell_type": "markdown",
   "id": "93aa14c6-0839-4afd-a456-d8a3d3c77a74",
   "metadata": {},
   "source": [
    "### Less meaningfull words in some of the topics, like 1 and 0 for Count Vectorizer and NMF"
   ]
  },
  {
   "cell_type": "code",
   "execution_count": 470,
   "id": "1c02c54f-d179-42c2-9edb-b14c2525afa1",
   "metadata": {},
   "outputs": [
    {
     "name": "stdout",
     "output_type": "stream",
     "text": [
      "Topic 0:\n",
      " OF, GALAXY, GUARDIANS, BREATH, WILD, ONE, ZELDA, SEA \n",
      "\n",
      "Topic 1:\n",
      " NINTENDO, DIRECT, ANNOUNCED, 2021, DAYS, SWITCH, 15, REVEALED \n",
      "\n",
      "Topic 2:\n",
      " XBOXBETHESDA, XBOX, XBOX20, BETHESDA, SHOWCASE, HALO, STARFIELD, COMING \n",
      "\n",
      "Topic 3:\n",
      " TODAY, DAY, SEE, CAN, WAIT, 2021, GET, IT \n",
      "\n",
      "Topic 4:\n",
      " NINTENDODIRECT, METROID, SWITCH, ZELDA, BOTW2, SMASH, MARIO, DREAD \n",
      "\n",
      "Topic 5:\n",
      " GAMES, VIDEO, SHOWCASE, SHOW, MANY, COMING, XBOX, PLAY \n",
      "\n",
      "Topic 6:\n",
      " NEW, LOOKS, METROID, TRAILER, GAME, MARIO, GAMEPLAY, COMING \n",
      "\n"
     ]
    },
    {
     "data": {
      "text/plain": [
       "array([[7.13466760e-02, 1.02786416e-03, 3.23042950e-03, ...,\n",
       "        4.06343260e-03, 7.97524784e-03, 6.73850144e-03],\n",
       "       [6.92016797e-02, 1.46783738e-04, 1.14191911e-04, ...,\n",
       "        6.86925100e-04, 0.00000000e+00, 0.00000000e+00],\n",
       "       [1.08364945e-04, 0.00000000e+00, 9.85685919e-05, ...,\n",
       "        1.31271269e-04, 1.91154602e-04, 4.33092013e-04],\n",
       "       ...,\n",
       "       [1.37323114e-01, 0.00000000e+00, 0.00000000e+00, ...,\n",
       "        0.00000000e+00, 0.00000000e+00, 0.00000000e+00],\n",
       "       [2.15852060e-03, 0.00000000e+00, 2.82826316e-03, ...,\n",
       "        0.00000000e+00, 4.63046117e-03, 1.15291358e-01],\n",
       "       [3.27280970e-03, 0.00000000e+00, 2.91654825e-03, ...,\n",
       "        0.00000000e+00, 0.00000000e+00, 3.57389024e-02]])"
      ]
     },
     "execution_count": 470,
     "metadata": {},
     "output_type": "execute_result"
    }
   ],
   "source": [
    "topic_generation(lst, vectorizer2, nmf, 8)"
   ]
  },
  {
   "cell_type": "markdown",
   "id": "29caecf4-0ed1-477d-b733-6d8fb2a45072",
   "metadata": {},
   "source": [
    "### Way too much overlap in topics in Count Vectorizer and LSA"
   ]
  },
  {
   "cell_type": "code",
   "execution_count": 373,
   "id": "f3338838-cb70-484e-8744-3cc7302ba664",
   "metadata": {},
   "outputs": [
    {
     "name": "stdout",
     "output_type": "stream",
     "text": [
      "Topic 0:\n",
      " OF, NINTENDO, GAMES, XBOX, NEW, XBOXBETHESDA, NINTENDODIRECT, DAY \n",
      "\n",
      "Topic 1:\n",
      " NINTENDO, DIRECT, ANNOUNCED, NINTENDODIRECT, DAYS, SWITCH, TODAY, METROID \n",
      "\n",
      "Topic 2:\n",
      " XBOX, XBOXBETHESDA, GAMES, BETHESDA, XBOX20, SHOWCASE, NEW, SHOW \n",
      "\n",
      "Topic 3:\n",
      " NINTENDODIRECT, GAMES, XBOX, NEW, BETHESDA, METROID, SEE, TODAY \n",
      "\n",
      "Topic 4:\n",
      " XBOX, BETHESDA, NINTENDO, GAMES, OF, SHOWCASE, SQUARE, ENIX \n",
      "\n",
      "Topic 5:\n",
      " GAMES, NEW, LOOKS, SEE, VIDEO, XBOXBETHESDA, TODAY, SHOW \n",
      "\n",
      "Topic 6:\n",
      " NEW, LOOKS, TRAILER, METROID, GAME, XBOX, MARIO, GET \n",
      "\n"
     ]
    },
    {
     "data": {
      "text/plain": [
       "array([[ 1.02693707, -0.23733615, -0.09642393, ...,  0.00334322,\n",
       "        -0.01824536,  0.01552171],\n",
       "       [ 0.99249734, -0.23465604, -0.12953539, ...,  0.03721514,\n",
       "        -0.05869752,  0.00748261],\n",
       "       [ 0.0268861 ,  0.00634153,  0.0311503 , ..., -0.01129828,\n",
       "         0.01983633,  0.01698861],\n",
       "       ...,\n",
       "       [ 0.        , -0.        ,  0.        , ..., -0.        ,\n",
       "        -0.        , -0.        ],\n",
       "       [ 0.17815069,  0.02843032,  0.17994192, ..., -0.17676539,\n",
       "         0.34262011,  0.74708299],\n",
       "       [ 0.14122257, -0.01237671,  0.13420614, ..., -0.13932512,\n",
       "         0.13023617,  0.3765814 ]])"
      ]
     },
     "execution_count": 373,
     "metadata": {},
     "output_type": "execute_result"
    }
   ],
   "source": [
    "topic_generation(lst, vectorizer2, lsa, 8)"
   ]
  },
  {
   "cell_type": "code",
   "execution_count": null,
   "id": "90bff13e-5849-44cc-81d6-fecc5744f4a9",
   "metadata": {},
   "outputs": [],
   "source": []
  }
 ],
 "metadata": {
  "kernelspec": {
   "display_name": "Python [conda env:root]",
   "language": "python",
   "name": "conda-root-py"
  },
  "language_info": {
   "codemirror_mode": {
    "name": "ipython",
    "version": 3
   },
   "file_extension": ".py",
   "mimetype": "text/x-python",
   "name": "python",
   "nbconvert_exporter": "python",
   "pygments_lexer": "ipython3",
   "version": "3.8.5"
  }
 },
 "nbformat": 4,
 "nbformat_minor": 5
}
