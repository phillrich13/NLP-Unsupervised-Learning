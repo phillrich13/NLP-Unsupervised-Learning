{
 "cells": [
  {
   "cell_type": "code",
   "execution_count": 1,
   "id": "f80508a0-2cdd-4c51-832f-45ac36bd4d05",
   "metadata": {},
   "outputs": [],
   "source": [
    "import json\n",
    "import pandas as pd\n",
    "import os"
   ]
  },
  {
   "cell_type": "code",
   "execution_count": 2,
   "id": "f4148bda-bed2-493c-b206-d6b23297db2f",
   "metadata": {},
   "outputs": [],
   "source": [
    "path = r'/Users/philliprichardson/Metis/Module 5/Tweets/'"
   ]
  },
  {
   "cell_type": "code",
   "execution_count": 3,
   "id": "2fd4a47b-f7fd-479d-bcc5-bbc52a0cc5f7",
   "metadata": {},
   "outputs": [],
   "source": [
    "json_files = [r'/Users/philliprichardson/Metis/Module 5/Tweets/'+pos_json for pos_json in os.listdir(path) if pos_json.endswith('.json')]"
   ]
  },
  {
   "cell_type": "code",
   "execution_count": 15,
   "id": "18fd9b81-8bb0-4de1-8294-8f010e126288",
   "metadata": {},
   "outputs": [
    {
     "data": {
      "text/plain": [
       "95"
      ]
     },
     "execution_count": 15,
     "metadata": {},
     "output_type": "execute_result"
    }
   ],
   "source": [
    "len(json_files)"
   ]
  },
  {
   "cell_type": "code",
   "execution_count": 16,
   "id": "b66f29f7-6586-4bb1-8559-5e7d44983e16",
   "metadata": {
    "collapsed": true,
    "jupyter": {
     "outputs_hidden": true
    },
    "tags": []
   },
   "outputs": [
    {
     "name": "stdout",
     "output_type": "stream",
     "text": [
      "/Users/philliprichardson/Metis/Module 5/Tweets/tweets82.json\n",
      "/Users/philliprichardson/Metis/Module 5/Tweets/tweets16.json\n",
      "/Users/philliprichardson/Metis/Module 5/Tweets/tweets41.json\n",
      "/Users/philliprichardson/Metis/Module 5/Tweets/tweets57.json\n",
      "/Users/philliprichardson/Metis/Module 5/Tweets/tweets77.json\n",
      "/Users/philliprichardson/Metis/Module 5/Tweets/tweets20.json\n",
      "/Users/philliprichardson/Metis/Module 5/Tweets/tweets2.json\n",
      "/Users/philliprichardson/Metis/Module 5/Tweets/tweets36.json\n",
      "/Users/philliprichardson/Metis/Module 5/Tweets/tweets61.json\n",
      "/Users/philliprichardson/Metis/Module 5/Tweets/tweets60.json\n",
      "/Users/philliprichardson/Metis/Module 5/Tweets/tweets37.json\n",
      "/Users/philliprichardson/Metis/Module 5/Tweets/tweets3.json\n",
      "/Users/philliprichardson/Metis/Module 5/Tweets/tweets21.json\n",
      "/Users/philliprichardson/Metis/Module 5/Tweets/tweets76.json\n",
      "/Users/philliprichardson/Metis/Module 5/Tweets/tweets56.json\n",
      "/Users/philliprichardson/Metis/Module 5/Tweets/tweets40.json\n",
      "/Users/philliprichardson/Metis/Module 5/Tweets/tweets17.json\n",
      "/Users/philliprichardson/Metis/Module 5/Tweets/tweets83.json\n",
      "/Users/philliprichardson/Metis/Module 5/Tweets/tweets71.json\n",
      "/Users/philliprichardson/Metis/Module 5/Tweets/tweets26.json\n",
      "/Users/philliprichardson/Metis/Module 5/Tweets/tweets4.json\n",
      "/Users/philliprichardson/Metis/Module 5/Tweets/tweets30.json\n",
      "/Users/philliprichardson/Metis/Module 5/Tweets/tweets67.json\n",
      "/Users/philliprichardson/Metis/Module 5/Tweets/tweets88.json\n",
      "/Users/philliprichardson/Metis/Module 5/Tweets/tweets92.json\n",
      "/Users/philliprichardson/Metis/Module 5/Tweets/tweets8.json\n",
      "/Users/philliprichardson/Metis/Module 5/Tweets/tweets84.json\n",
      "/Users/philliprichardson/Metis/Module 5/Tweets/tweets10.json\n",
      "/Users/philliprichardson/Metis/Module 5/Tweets/tweets47.json\n",
      "/Users/philliprichardson/Metis/Module 5/Tweets/tweets51.json\n",
      "/Users/philliprichardson/Metis/Module 5/Tweets/tweets50.json\n",
      "/Users/philliprichardson/Metis/Module 5/Tweets/tweets46.json\n",
      "/Users/philliprichardson/Metis/Module 5/Tweets/tweets11.json\n",
      "/Users/philliprichardson/Metis/Module 5/Tweets/tweets85.json\n",
      "/Users/philliprichardson/Metis/Module 5/Tweets/tweets9.json\n"
     ]
    }
   ],
   "source": [
    "tweets = pd.read_json(json_files[0])\n",
    "for i in json_files[1:36]:\n",
    "    print(i)\n",
    "    tweets = tweets.append(pd.read_json(i))\n",
    "    tweets.to_pickle(r'/Users/philliprichardson/Metis/Module 5/df.pkl')\n",
    "    "
   ]
  },
  {
   "cell_type": "code",
   "execution_count": 14,
   "id": "49dd9330-5880-4175-b947-2497509e1231",
   "metadata": {},
   "outputs": [],
   "source": [
    "tweets2 = pd.read_pickle(r'/Users/philliprichardson/Metis/Module 5/df2.pkl')"
   ]
  },
  {
   "cell_type": "code",
   "execution_count": 23,
   "id": "aeb1f384-9c8c-4e90-a114-a433a2eb551e",
   "metadata": {},
   "outputs": [],
   "source": [
    "tweets3 = pd.read_pickle(r'/Users/philliprichardson/Metis/Module 5/df3.pkl')"
   ]
  },
  {
   "cell_type": "code",
   "execution_count": 26,
   "id": "8998ab65-4aaf-41ea-96e8-6363c051ad3a",
   "metadata": {},
   "outputs": [],
   "source": [
    "mask1 = (tweets.text.str[:4] != 'RT @')\n",
    "mask2 = (tweets2.text.str[:4] != 'RT @')\n",
    "mask3 = (tweets3.text.str[:4] != 'RT @')"
   ]
  },
  {
   "cell_type": "code",
   "execution_count": 27,
   "id": "38457280-8906-4d9c-8896-33e6750fd80a",
   "metadata": {},
   "outputs": [],
   "source": [
    "new_tweets1 = tweets[mask1]\n",
    "new_tweets2 = tweets2[mask2]\n",
    "new_tweets3 = tweets3[mask3]\n"
   ]
  },
  {
   "cell_type": "code",
   "execution_count": 28,
   "id": "6a69a67c-06e7-4f41-af47-87bba05b7bf1",
   "metadata": {},
   "outputs": [],
   "source": [
    "final_tweets = new_tweets1.append(new_tweets2.append(new_tweets3))"
   ]
  },
  {
   "cell_type": "code",
   "execution_count": 32,
   "id": "4a900a06-445f-4537-8033-bba3f26a6997",
   "metadata": {},
   "outputs": [],
   "source": [
    "final_tweets.reset_index(inplace = True)"
   ]
  },
  {
   "cell_type": "code",
   "execution_count": 38,
   "id": "9b15eeb0-fd2a-4f0e-8f8e-cb3a544138db",
   "metadata": {},
   "outputs": [],
   "source": [
    "final_tweets.to_pickle(r'/Users/philliprichardson/Metis/Module 5/final df.pkl')"
   ]
  },
  {
   "cell_type": "code",
   "execution_count": null,
   "id": "61189157-4e68-4587-a5fc-94edc7d22fb6",
   "metadata": {},
   "outputs": [],
   "source": []
  }
 ],
 "metadata": {
  "kernelspec": {
   "display_name": "Python [conda env:metis] *",
   "language": "python",
   "name": "conda-env-metis-py"
  },
  "language_info": {
   "codemirror_mode": {
    "name": "ipython",
    "version": 3
   },
   "file_extension": ".py",
   "mimetype": "text/x-python",
   "name": "python",
   "nbconvert_exporter": "python",
   "pygments_lexer": "ipython3",
   "version": "3.8.8"
  }
 },
 "nbformat": 4,
 "nbformat_minor": 5
}
